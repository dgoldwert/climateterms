{
 "cells": [
  {
   "cell_type": "markdown",
   "metadata": {},
   "source": [
    "## Analyses scripts for the manuscript \"Does climate change terminology influence willingness to take climate action?\""
   ]
  },
  {
   "cell_type": "markdown",
   "metadata": {},
   "source": [
    "### Install Libraries"
   ]
  },
  {
   "cell_type": "code",
   "execution_count": 29,
   "metadata": {},
   "outputs": [
    {
     "name": "stdout",
     "output_type": "stream",
     "text": [
      "The autoreload extension is already loaded. To reload it, use:\n",
      "  %reload_ext autoreload\n"
     ]
    },
    {
     "data": {
      "application/javascript": [
       "IPython.notebook.set_autosave_interval(30000)"
      ]
     },
     "metadata": {},
     "output_type": "display_data"
    },
    {
     "name": "stdout",
     "output_type": "stream",
     "text": [
      "Autosaving every 30 seconds\n"
     ]
    }
   ],
   "source": [
    "# Core analysis packages\n",
    "import numpy as np\n",
    "import os, sys\n",
    "import pandas as pd\n",
    "from scipy import stats\n",
    "from scipy.special import comb\n",
    "import statsmodels.api as sm\n",
    "import statsmodels.formula.api as smf\n",
    "\n",
    "import matplotlib.pyplot as plt\n",
    "plt.rcdefaults()\n",
    "import seaborn as sns \n",
    "sns.set(style=\"ticks\", color_codes=True)\n",
    "sns.set_style(\"white\")\n",
    "sns.set_style({'xtick.bottom': True, 'ytick.left': True})\n",
    "colorref = [\"gray\", \"royalblue\", \"crimson\", \"goldenrod\", \"mediumorchid\", \"seagreen\"]\n",
    "\n",
    "# iPython magic commands\n",
    "%matplotlib notebook\n",
    "%load_ext autoreload\n",
    "%autoreload 2\n",
    "%autosave 30\n",
    "\n",
    "SMALL_SIZE = 12\n",
    "MEDIUM_SIZE = 12\n",
    "BIG_SIZE = 14\n",
    "\n",
    "plt.rc('font', size=SMALL_SIZE)          # controls default text sizes\n",
    "plt.rc('axes', titlesize=SMALL_SIZE)     # fontsize of the axes title\n",
    "plt.rc('axes', labelsize=MEDIUM_SIZE)    # fontsize of the x and y labels\n",
    "plt.rc('xtick', labelsize=SMALL_SIZE)    # fontsize of the tick labels\n",
    "plt.rc('ytick', labelsize=SMALL_SIZE)    # fontsize of the tick labels\n",
    "plt.rc('legend', fontsize=SMALL_SIZE)    # legend fontsize\n",
    "plt.rc('figure', titlesize=BIG_SIZE)  # fontsize of the figure title\n",
    "cust_palette = sns.color_palette(\"Paired\")[6:10]\n",
    "cust_palette = [cust_palette[i] for i in [1,0,3,2]]\n",
    "\n",
    "def median_split(S):\n",
    "    return S > S.median()"
   ]
  },
  {
   "cell_type": "markdown",
   "metadata": {},
   "source": [
    "# STUDY 1"
   ]
  },
  {
   "cell_type": "markdown",
   "metadata": {},
   "source": [
    "### Import Study 1 data and run data preprocessing"
   ]
  },
  {
   "cell_type": "code",
   "execution_count": 30,
   "metadata": {},
   "outputs": [],
   "source": [
    "# Load file (from same directory as the notebook)\n",
    "df = pd.read_excel(\"data63.xlsx\")"
   ]
  },
  {
   "cell_type": "code",
   "execution_count": 31,
   "metadata": {},
   "outputs": [
    {
     "data": {
      "text/html": [
       "<div>\n",
       "<style scoped>\n",
       "    .dataframe tbody tr th:only-of-type {\n",
       "        vertical-align: middle;\n",
       "    }\n",
       "\n",
       "    .dataframe tbody tr th {\n",
       "        vertical-align: top;\n",
       "    }\n",
       "\n",
       "    .dataframe thead th {\n",
       "        text-align: right;\n",
       "    }\n",
       "</style>\n",
       "<table border=\"1\" class=\"dataframe\">\n",
       "  <thead>\n",
       "    <tr style=\"text-align: right;\">\n",
       "      <th></th>\n",
       "      <th>ResponseId</th>\n",
       "      <th>Country</th>\n",
       "      <th>cond</th>\n",
       "      <th>condName</th>\n",
       "      <th>Intervention_order</th>\n",
       "      <th>Belief1</th>\n",
       "      <th>Belief2</th>\n",
       "      <th>Belief3</th>\n",
       "      <th>Belief4</th>\n",
       "      <th>Policy1</th>\n",
       "      <th>...</th>\n",
       "      <th>Edu</th>\n",
       "      <th>Income</th>\n",
       "      <th>Indirect_SES</th>\n",
       "      <th>MacArthur_SES</th>\n",
       "      <th>PerceivedSciConsensu_1</th>\n",
       "      <th>Intro_Timer</th>\n",
       "      <th>condition_time_total</th>\n",
       "      <th>WEPTcc</th>\n",
       "      <th>BELIEFcc</th>\n",
       "      <th>POLICYcc</th>\n",
       "    </tr>\n",
       "  </thead>\n",
       "  <tbody>\n",
       "    <tr>\n",
       "      <th>1</th>\n",
       "      <td>R_2ATgV5VxewrTRiI</td>\n",
       "      <td>usa</td>\n",
       "      <td>1</td>\n",
       "      <td>Control</td>\n",
       "      <td>PolicySupport|BeliefinAnthrCC|Socialmediashari...</td>\n",
       "      <td>49.0</td>\n",
       "      <td>50.0</td>\n",
       "      <td>51.0</td>\n",
       "      <td>51.0</td>\n",
       "      <td>1.0</td>\n",
       "      <td>...</td>\n",
       "      <td>3.0</td>\n",
       "      <td>4.0</td>\n",
       "      <td>1,2,3,4,5,6,7</td>\n",
       "      <td>5.0</td>\n",
       "      <td>51.0</td>\n",
       "      <td>16.284</td>\n",
       "      <td>200.742</td>\n",
       "      <td>0</td>\n",
       "      <td>50.25</td>\n",
       "      <td>66.222222</td>\n",
       "    </tr>\n",
       "    <tr>\n",
       "      <th>17</th>\n",
       "      <td>R_1CjFxfgjU1coLqp</td>\n",
       "      <td>usa</td>\n",
       "      <td>1</td>\n",
       "      <td>Control</td>\n",
       "      <td>BeliefinAnthrCC|PolicySupport|Socialmediashari...</td>\n",
       "      <td>100.0</td>\n",
       "      <td>100.0</td>\n",
       "      <td>100.0</td>\n",
       "      <td>100.0</td>\n",
       "      <td>100.0</td>\n",
       "      <td>...</td>\n",
       "      <td>4.0</td>\n",
       "      <td>NaN</td>\n",
       "      <td>1,3,4,5,6,7</td>\n",
       "      <td>9.0</td>\n",
       "      <td>96.0</td>\n",
       "      <td>16.697</td>\n",
       "      <td>367.657</td>\n",
       "      <td>1</td>\n",
       "      <td>100.00</td>\n",
       "      <td>100.000000</td>\n",
       "    </tr>\n",
       "    <tr>\n",
       "      <th>21</th>\n",
       "      <td>R_qxty9a2HTTEq7Xb</td>\n",
       "      <td>usa</td>\n",
       "      <td>1</td>\n",
       "      <td>Control</td>\n",
       "      <td>BeliefinAnthrCC|PolicySupport|Socialmediashari...</td>\n",
       "      <td>3.0</td>\n",
       "      <td>78.0</td>\n",
       "      <td>3.0</td>\n",
       "      <td>37.0</td>\n",
       "      <td>0.0</td>\n",
       "      <td>...</td>\n",
       "      <td>3.0</td>\n",
       "      <td>5.0</td>\n",
       "      <td>2,3,4,5,6,7</td>\n",
       "      <td>6.0</td>\n",
       "      <td>76.0</td>\n",
       "      <td>24.055</td>\n",
       "      <td>79.902</td>\n",
       "      <td>8</td>\n",
       "      <td>30.25</td>\n",
       "      <td>66.444444</td>\n",
       "    </tr>\n",
       "    <tr>\n",
       "      <th>31</th>\n",
       "      <td>R_2QW2fJEzh1ev4fa</td>\n",
       "      <td>usa</td>\n",
       "      <td>1</td>\n",
       "      <td>Control</td>\n",
       "      <td>SocialmediasharingPipedText|BeliefinAnthrCC|Po...</td>\n",
       "      <td>45.0</td>\n",
       "      <td>49.0</td>\n",
       "      <td>50.0</td>\n",
       "      <td>47.0</td>\n",
       "      <td>NaN</td>\n",
       "      <td>...</td>\n",
       "      <td>3.0</td>\n",
       "      <td>1.0</td>\n",
       "      <td>1,2,3,4,5,6,7</td>\n",
       "      <td>6.0</td>\n",
       "      <td>80.0</td>\n",
       "      <td>24.115</td>\n",
       "      <td>310.565</td>\n",
       "      <td>8</td>\n",
       "      <td>47.75</td>\n",
       "      <td>NaN</td>\n",
       "    </tr>\n",
       "    <tr>\n",
       "      <th>50</th>\n",
       "      <td>R_1Q0JBi1pA5p0kym</td>\n",
       "      <td>usa</td>\n",
       "      <td>1</td>\n",
       "      <td>Control</td>\n",
       "      <td>SocialmediasharingPipedText|BeliefinAnthrCC|Po...</td>\n",
       "      <td>56.0</td>\n",
       "      <td>57.0</td>\n",
       "      <td>51.0</td>\n",
       "      <td>55.0</td>\n",
       "      <td>53.0</td>\n",
       "      <td>...</td>\n",
       "      <td>2.0</td>\n",
       "      <td>4.0</td>\n",
       "      <td>1,2,3,4,5,6,7</td>\n",
       "      <td>9.0</td>\n",
       "      <td>63.0</td>\n",
       "      <td>8.253</td>\n",
       "      <td>183.052</td>\n",
       "      <td>8</td>\n",
       "      <td>54.75</td>\n",
       "      <td>51.375000</td>\n",
       "    </tr>\n",
       "    <tr>\n",
       "      <th>...</th>\n",
       "      <td>...</td>\n",
       "      <td>...</td>\n",
       "      <td>...</td>\n",
       "      <td>...</td>\n",
       "      <td>...</td>\n",
       "      <td>...</td>\n",
       "      <td>...</td>\n",
       "      <td>...</td>\n",
       "      <td>...</td>\n",
       "      <td>...</td>\n",
       "      <td>...</td>\n",
       "      <td>...</td>\n",
       "      <td>...</td>\n",
       "      <td>...</td>\n",
       "      <td>...</td>\n",
       "      <td>...</td>\n",
       "      <td>...</td>\n",
       "      <td>...</td>\n",
       "      <td>...</td>\n",
       "      <td>...</td>\n",
       "      <td>...</td>\n",
       "    </tr>\n",
       "    <tr>\n",
       "      <th>59399</th>\n",
       "      <td>R_1db1dsU9anX3Iwf</td>\n",
       "      <td>vietnam</td>\n",
       "      <td>1</td>\n",
       "      <td>Control</td>\n",
       "      <td>PolicySupport|BeliefinAnthrCC|Socialmediashari...</td>\n",
       "      <td>72.0</td>\n",
       "      <td>100.0</td>\n",
       "      <td>100.0</td>\n",
       "      <td>100.0</td>\n",
       "      <td>50.0</td>\n",
       "      <td>...</td>\n",
       "      <td>3.0</td>\n",
       "      <td>NaN</td>\n",
       "      <td>1,2,4,5,6,7</td>\n",
       "      <td>7.0</td>\n",
       "      <td>80.0</td>\n",
       "      <td>5.195</td>\n",
       "      <td>189.709</td>\n",
       "      <td>8</td>\n",
       "      <td>93.00</td>\n",
       "      <td>82.888889</td>\n",
       "    </tr>\n",
       "    <tr>\n",
       "      <th>59416</th>\n",
       "      <td>R_3PFQCv3jEvnT5RD</td>\n",
       "      <td>vietnam</td>\n",
       "      <td>1</td>\n",
       "      <td>Control</td>\n",
       "      <td>SocialmediasharingPipedText|BeliefinAnthrCC|Po...</td>\n",
       "      <td>92.0</td>\n",
       "      <td>95.0</td>\n",
       "      <td>94.0</td>\n",
       "      <td>93.0</td>\n",
       "      <td>76.0</td>\n",
       "      <td>...</td>\n",
       "      <td>3.0</td>\n",
       "      <td>4.0</td>\n",
       "      <td>1,2,3,4,5,6,7</td>\n",
       "      <td>7.0</td>\n",
       "      <td>90.0</td>\n",
       "      <td>11.888</td>\n",
       "      <td>206.495</td>\n",
       "      <td>8</td>\n",
       "      <td>93.50</td>\n",
       "      <td>79.222222</td>\n",
       "    </tr>\n",
       "    <tr>\n",
       "      <th>59417</th>\n",
       "      <td>R_2Qgs8q8dUPLjhcA</td>\n",
       "      <td>vietnam</td>\n",
       "      <td>1</td>\n",
       "      <td>Control</td>\n",
       "      <td>PolicySupport|SocialmediasharingPipedText|Beli...</td>\n",
       "      <td>89.0</td>\n",
       "      <td>100.0</td>\n",
       "      <td>100.0</td>\n",
       "      <td>100.0</td>\n",
       "      <td>35.0</td>\n",
       "      <td>...</td>\n",
       "      <td>3.0</td>\n",
       "      <td>NaN</td>\n",
       "      <td>NaN</td>\n",
       "      <td>NaN</td>\n",
       "      <td>NaN</td>\n",
       "      <td>6.190</td>\n",
       "      <td>166.433</td>\n",
       "      <td>2</td>\n",
       "      <td>97.25</td>\n",
       "      <td>71.111111</td>\n",
       "    </tr>\n",
       "    <tr>\n",
       "      <th>59433</th>\n",
       "      <td>R_3GwXA80Oate9obo</td>\n",
       "      <td>vietnam</td>\n",
       "      <td>1</td>\n",
       "      <td>Control</td>\n",
       "      <td>SocialmediasharingPipedText|BeliefinAnthrCC|Po...</td>\n",
       "      <td>100.0</td>\n",
       "      <td>100.0</td>\n",
       "      <td>100.0</td>\n",
       "      <td>100.0</td>\n",
       "      <td>100.0</td>\n",
       "      <td>...</td>\n",
       "      <td>3.0</td>\n",
       "      <td>2.0</td>\n",
       "      <td>1,2,3,4,5,6,7</td>\n",
       "      <td>4.0</td>\n",
       "      <td>100.0</td>\n",
       "      <td>4.966</td>\n",
       "      <td>42.906</td>\n",
       "      <td>4</td>\n",
       "      <td>100.00</td>\n",
       "      <td>100.000000</td>\n",
       "    </tr>\n",
       "    <tr>\n",
       "      <th>59439</th>\n",
       "      <td>R_3j0DcbTReKZgR9O</td>\n",
       "      <td>vietnam</td>\n",
       "      <td>1</td>\n",
       "      <td>Control</td>\n",
       "      <td>PolicySupport|BeliefinAnthrCC|Socialmediashari...</td>\n",
       "      <td>100.0</td>\n",
       "      <td>100.0</td>\n",
       "      <td>100.0</td>\n",
       "      <td>100.0</td>\n",
       "      <td>75.0</td>\n",
       "      <td>...</td>\n",
       "      <td>3.0</td>\n",
       "      <td>5.0</td>\n",
       "      <td>1,4,5,6</td>\n",
       "      <td>6.0</td>\n",
       "      <td>69.0</td>\n",
       "      <td>26.443</td>\n",
       "      <td>245.602</td>\n",
       "      <td>8</td>\n",
       "      <td>100.00</td>\n",
       "      <td>62.000000</td>\n",
       "    </tr>\n",
       "  </tbody>\n",
       "</table>\n",
       "<p>5086 rows × 62 columns</p>\n",
       "</div>"
      ],
      "text/plain": [
       "              ResponseId  Country  cond condName  \\\n",
       "1      R_2ATgV5VxewrTRiI      usa     1  Control   \n",
       "17     R_1CjFxfgjU1coLqp      usa     1  Control   \n",
       "21     R_qxty9a2HTTEq7Xb      usa     1  Control   \n",
       "31     R_2QW2fJEzh1ev4fa      usa     1  Control   \n",
       "50     R_1Q0JBi1pA5p0kym      usa     1  Control   \n",
       "...                  ...      ...   ...      ...   \n",
       "59399  R_1db1dsU9anX3Iwf  vietnam     1  Control   \n",
       "59416  R_3PFQCv3jEvnT5RD  vietnam     1  Control   \n",
       "59417  R_2Qgs8q8dUPLjhcA  vietnam     1  Control   \n",
       "59433  R_3GwXA80Oate9obo  vietnam     1  Control   \n",
       "59439  R_3j0DcbTReKZgR9O  vietnam     1  Control   \n",
       "\n",
       "                                      Intervention_order  Belief1  Belief2  \\\n",
       "1      PolicySupport|BeliefinAnthrCC|Socialmediashari...     49.0     50.0   \n",
       "17     BeliefinAnthrCC|PolicySupport|Socialmediashari...    100.0    100.0   \n",
       "21     BeliefinAnthrCC|PolicySupport|Socialmediashari...      3.0     78.0   \n",
       "31     SocialmediasharingPipedText|BeliefinAnthrCC|Po...     45.0     49.0   \n",
       "50     SocialmediasharingPipedText|BeliefinAnthrCC|Po...     56.0     57.0   \n",
       "...                                                  ...      ...      ...   \n",
       "59399  PolicySupport|BeliefinAnthrCC|Socialmediashari...     72.0    100.0   \n",
       "59416  SocialmediasharingPipedText|BeliefinAnthrCC|Po...     92.0     95.0   \n",
       "59417  PolicySupport|SocialmediasharingPipedText|Beli...     89.0    100.0   \n",
       "59433  SocialmediasharingPipedText|BeliefinAnthrCC|Po...    100.0    100.0   \n",
       "59439  PolicySupport|BeliefinAnthrCC|Socialmediashari...    100.0    100.0   \n",
       "\n",
       "       Belief3  Belief4  Policy1  ...  Edu  Income   Indirect_SES  \\\n",
       "1         51.0     51.0      1.0  ...  3.0     4.0  1,2,3,4,5,6,7   \n",
       "17       100.0    100.0    100.0  ...  4.0     NaN    1,3,4,5,6,7   \n",
       "21         3.0     37.0      0.0  ...  3.0     5.0    2,3,4,5,6,7   \n",
       "31        50.0     47.0      NaN  ...  3.0     1.0  1,2,3,4,5,6,7   \n",
       "50        51.0     55.0     53.0  ...  2.0     4.0  1,2,3,4,5,6,7   \n",
       "...        ...      ...      ...  ...  ...     ...            ...   \n",
       "59399    100.0    100.0     50.0  ...  3.0     NaN    1,2,4,5,6,7   \n",
       "59416     94.0     93.0     76.0  ...  3.0     4.0  1,2,3,4,5,6,7   \n",
       "59417    100.0    100.0     35.0  ...  3.0     NaN            NaN   \n",
       "59433    100.0    100.0    100.0  ...  3.0     2.0  1,2,3,4,5,6,7   \n",
       "59439    100.0    100.0     75.0  ...  3.0     5.0        1,4,5,6   \n",
       "\n",
       "       MacArthur_SES  PerceivedSciConsensu_1  Intro_Timer  \\\n",
       "1                5.0                    51.0       16.284   \n",
       "17               9.0                    96.0       16.697   \n",
       "21               6.0                    76.0       24.055   \n",
       "31               6.0                    80.0       24.115   \n",
       "50               9.0                    63.0        8.253   \n",
       "...              ...                     ...          ...   \n",
       "59399            7.0                    80.0        5.195   \n",
       "59416            7.0                    90.0       11.888   \n",
       "59417            NaN                     NaN        6.190   \n",
       "59433            4.0                   100.0        4.966   \n",
       "59439            6.0                    69.0       26.443   \n",
       "\n",
       "       condition_time_total  WEPTcc  BELIEFcc    POLICYcc  \n",
       "1                   200.742       0     50.25   66.222222  \n",
       "17                  367.657       1    100.00  100.000000  \n",
       "21                   79.902       8     30.25   66.444444  \n",
       "31                  310.565       8     47.75         NaN  \n",
       "50                  183.052       8     54.75   51.375000  \n",
       "...                     ...     ...       ...         ...  \n",
       "59399               189.709       8     93.00   82.888889  \n",
       "59416               206.495       8     93.50   79.222222  \n",
       "59417               166.433       2     97.25   71.111111  \n",
       "59433                42.906       4    100.00  100.000000  \n",
       "59439               245.602       8    100.00   62.000000  \n",
       "\n",
       "[5086 rows x 62 columns]"
      ]
     },
     "execution_count": 31,
     "metadata": {},
     "output_type": "execute_result"
    }
   ],
   "source": [
    "#subset control condition\n",
    "df_control = df.query('cond==1')\n",
    "df_control\n",
    "\n",
    "# if you want to create an excel spreadsheet of only control data for future ease of loading large file\n",
    "#file_path = 'df_control.xlsx' "
   ]
  },
  {
   "cell_type": "code",
   "execution_count": 32,
   "metadata": {},
   "outputs": [],
   "source": [
    "# Load file (from same directory as the notebook)\n",
    "#df_control = pd.read_excel(\"df_control.xlsx\")\n",
    "#df_control"
   ]
  },
  {
   "cell_type": "code",
   "execution_count": 33,
   "metadata": {},
   "outputs": [],
   "source": [
    "#rename columns\n",
    "df_control.rename(columns={\n",
    "    'probe_CC_1': 'Climate_Change',\n",
    "    'probe_GW_1': 'Global_Warming',\n",
    "    'probe_GH_1': 'Global_Heating',\n",
    "    'probe_CCrisis_1': 'Climate_Crisis',\n",
    "    'probe_GE_1': 'Greenhouse_Effect',\n",
    "    'probe_CE_1': 'Carbon_Emissions',\n",
    "    'probe_CP_1': 'Greenhouse_Gasses',\n",
    "    'probe_CEmerg_1': 'Climate_Emergency', \n",
    "    'probe_CPoll_1': 'Carbon_Pollution' \n",
    "}, inplace=True)"
   ]
  },
  {
   "cell_type": "code",
   "execution_count": 34,
   "metadata": {},
   "outputs": [],
   "source": [
    "#remove columns that have no data for any of the 9 conditions\n",
    "\n",
    "# List of columns to check for missing values\n",
    "columns_to_check = ['Climate_Change', 'Global_Warming', 'Global_Heating', 'Climate_Crisis', 'Greenhouse_Effect', 'Carbon_Emissions', 'Greenhouse_Gasses', 'Climate_Emergency', 'Carbon_Pollution']\n",
    "\n",
    "# Remove rows where all specified columns have missing values\n",
    "df_control.dropna(subset=columns_to_check, how='all', inplace=True)\n",
    "\n",
    "#515 rows were removed"
   ]
  },
  {
   "cell_type": "code",
   "execution_count": 35,
   "metadata": {},
   "outputs": [
    {
     "data": {
      "text/html": [
       "<div>\n",
       "<style scoped>\n",
       "    .dataframe tbody tr th:only-of-type {\n",
       "        vertical-align: middle;\n",
       "    }\n",
       "\n",
       "    .dataframe tbody tr th {\n",
       "        vertical-align: top;\n",
       "    }\n",
       "\n",
       "    .dataframe thead th {\n",
       "        text-align: right;\n",
       "    }\n",
       "</style>\n",
       "<table border=\"1\" class=\"dataframe\">\n",
       "  <thead>\n",
       "    <tr style=\"text-align: right;\">\n",
       "      <th></th>\n",
       "      <th>ResponseId</th>\n",
       "      <th>Politics2_1</th>\n",
       "      <th>Politics2_9</th>\n",
       "      <th>Age</th>\n",
       "      <th>Country</th>\n",
       "      <th>BELIEFcc</th>\n",
       "      <th>Gender</th>\n",
       "      <th>Income</th>\n",
       "      <th>MacArthur_SES</th>\n",
       "      <th>Edu</th>\n",
       "      <th>Term</th>\n",
       "      <th>value</th>\n",
       "    </tr>\n",
       "  </thead>\n",
       "  <tbody>\n",
       "    <tr>\n",
       "      <th>0</th>\n",
       "      <td>R_2ATgV5VxewrTRiI</td>\n",
       "      <td>87.0</td>\n",
       "      <td>72.0</td>\n",
       "      <td>39.0</td>\n",
       "      <td>usa</td>\n",
       "      <td>50.25</td>\n",
       "      <td>1.0</td>\n",
       "      <td>4.0</td>\n",
       "      <td>5.0</td>\n",
       "      <td>3.0</td>\n",
       "      <td>Climate_Change</td>\n",
       "      <td>NaN</td>\n",
       "    </tr>\n",
       "    <tr>\n",
       "      <th>1</th>\n",
       "      <td>R_1CjFxfgjU1coLqp</td>\n",
       "      <td>3.0</td>\n",
       "      <td>5.0</td>\n",
       "      <td>50.0</td>\n",
       "      <td>usa</td>\n",
       "      <td>100.00</td>\n",
       "      <td>2.0</td>\n",
       "      <td>NaN</td>\n",
       "      <td>9.0</td>\n",
       "      <td>4.0</td>\n",
       "      <td>Climate_Change</td>\n",
       "      <td>NaN</td>\n",
       "    </tr>\n",
       "    <tr>\n",
       "      <th>2</th>\n",
       "      <td>R_qxty9a2HTTEq7Xb</td>\n",
       "      <td>48.0</td>\n",
       "      <td>49.0</td>\n",
       "      <td>36.0</td>\n",
       "      <td>usa</td>\n",
       "      <td>30.25</td>\n",
       "      <td>1.0</td>\n",
       "      <td>5.0</td>\n",
       "      <td>6.0</td>\n",
       "      <td>3.0</td>\n",
       "      <td>Climate_Change</td>\n",
       "      <td>NaN</td>\n",
       "    </tr>\n",
       "    <tr>\n",
       "      <th>3</th>\n",
       "      <td>R_2QW2fJEzh1ev4fa</td>\n",
       "      <td>NaN</td>\n",
       "      <td>NaN</td>\n",
       "      <td>51.0</td>\n",
       "      <td>usa</td>\n",
       "      <td>47.75</td>\n",
       "      <td>1.0</td>\n",
       "      <td>1.0</td>\n",
       "      <td>6.0</td>\n",
       "      <td>3.0</td>\n",
       "      <td>Climate_Change</td>\n",
       "      <td>NaN</td>\n",
       "    </tr>\n",
       "    <tr>\n",
       "      <th>4</th>\n",
       "      <td>R_1Q0JBi1pA5p0kym</td>\n",
       "      <td>90.0</td>\n",
       "      <td>97.0</td>\n",
       "      <td>69.0</td>\n",
       "      <td>usa</td>\n",
       "      <td>54.75</td>\n",
       "      <td>2.0</td>\n",
       "      <td>4.0</td>\n",
       "      <td>9.0</td>\n",
       "      <td>2.0</td>\n",
       "      <td>Climate_Change</td>\n",
       "      <td>NaN</td>\n",
       "    </tr>\n",
       "    <tr>\n",
       "      <th>...</th>\n",
       "      <td>...</td>\n",
       "      <td>...</td>\n",
       "      <td>...</td>\n",
       "      <td>...</td>\n",
       "      <td>...</td>\n",
       "      <td>...</td>\n",
       "      <td>...</td>\n",
       "      <td>...</td>\n",
       "      <td>...</td>\n",
       "      <td>...</td>\n",
       "      <td>...</td>\n",
       "      <td>...</td>\n",
       "    </tr>\n",
       "    <tr>\n",
       "      <th>41134</th>\n",
       "      <td>R_1db1dsU9anX3Iwf</td>\n",
       "      <td>9.0</td>\n",
       "      <td>12.0</td>\n",
       "      <td>20.0</td>\n",
       "      <td>vietnam</td>\n",
       "      <td>93.00</td>\n",
       "      <td>2.0</td>\n",
       "      <td>NaN</td>\n",
       "      <td>7.0</td>\n",
       "      <td>3.0</td>\n",
       "      <td>Carbon_Pollution</td>\n",
       "      <td>NaN</td>\n",
       "    </tr>\n",
       "    <tr>\n",
       "      <th>41135</th>\n",
       "      <td>R_3PFQCv3jEvnT5RD</td>\n",
       "      <td>46.0</td>\n",
       "      <td>48.0</td>\n",
       "      <td>28.0</td>\n",
       "      <td>vietnam</td>\n",
       "      <td>93.50</td>\n",
       "      <td>2.0</td>\n",
       "      <td>4.0</td>\n",
       "      <td>7.0</td>\n",
       "      <td>3.0</td>\n",
       "      <td>Carbon_Pollution</td>\n",
       "      <td>NaN</td>\n",
       "    </tr>\n",
       "    <tr>\n",
       "      <th>41136</th>\n",
       "      <td>R_2Qgs8q8dUPLjhcA</td>\n",
       "      <td>3.0</td>\n",
       "      <td>10.0</td>\n",
       "      <td>18.0</td>\n",
       "      <td>vietnam</td>\n",
       "      <td>97.25</td>\n",
       "      <td>2.0</td>\n",
       "      <td>NaN</td>\n",
       "      <td>NaN</td>\n",
       "      <td>3.0</td>\n",
       "      <td>Carbon_Pollution</td>\n",
       "      <td>NaN</td>\n",
       "    </tr>\n",
       "    <tr>\n",
       "      <th>41137</th>\n",
       "      <td>R_3GwXA80Oate9obo</td>\n",
       "      <td>100.0</td>\n",
       "      <td>100.0</td>\n",
       "      <td>25.0</td>\n",
       "      <td>vietnam</td>\n",
       "      <td>100.00</td>\n",
       "      <td>2.0</td>\n",
       "      <td>2.0</td>\n",
       "      <td>4.0</td>\n",
       "      <td>3.0</td>\n",
       "      <td>Carbon_Pollution</td>\n",
       "      <td>NaN</td>\n",
       "    </tr>\n",
       "    <tr>\n",
       "      <th>41138</th>\n",
       "      <td>R_3j0DcbTReKZgR9O</td>\n",
       "      <td>52.0</td>\n",
       "      <td>53.0</td>\n",
       "      <td>18.0</td>\n",
       "      <td>vietnam</td>\n",
       "      <td>100.00</td>\n",
       "      <td>2.0</td>\n",
       "      <td>5.0</td>\n",
       "      <td>6.0</td>\n",
       "      <td>3.0</td>\n",
       "      <td>Carbon_Pollution</td>\n",
       "      <td>NaN</td>\n",
       "    </tr>\n",
       "  </tbody>\n",
       "</table>\n",
       "<p>41139 rows × 12 columns</p>\n",
       "</div>"
      ],
      "text/plain": [
       "              ResponseId  Politics2_1  Politics2_9   Age  Country  BELIEFcc  \\\n",
       "0      R_2ATgV5VxewrTRiI         87.0         72.0  39.0      usa     50.25   \n",
       "1      R_1CjFxfgjU1coLqp          3.0          5.0  50.0      usa    100.00   \n",
       "2      R_qxty9a2HTTEq7Xb         48.0         49.0  36.0      usa     30.25   \n",
       "3      R_2QW2fJEzh1ev4fa          NaN          NaN  51.0      usa     47.75   \n",
       "4      R_1Q0JBi1pA5p0kym         90.0         97.0  69.0      usa     54.75   \n",
       "...                  ...          ...          ...   ...      ...       ...   \n",
       "41134  R_1db1dsU9anX3Iwf          9.0         12.0  20.0  vietnam     93.00   \n",
       "41135  R_3PFQCv3jEvnT5RD         46.0         48.0  28.0  vietnam     93.50   \n",
       "41136  R_2Qgs8q8dUPLjhcA          3.0         10.0  18.0  vietnam     97.25   \n",
       "41137  R_3GwXA80Oate9obo        100.0        100.0  25.0  vietnam    100.00   \n",
       "41138  R_3j0DcbTReKZgR9O         52.0         53.0  18.0  vietnam    100.00   \n",
       "\n",
       "       Gender  Income  MacArthur_SES  Edu              Term  value  \n",
       "0         1.0     4.0            5.0  3.0    Climate_Change    NaN  \n",
       "1         2.0     NaN            9.0  4.0    Climate_Change    NaN  \n",
       "2         1.0     5.0            6.0  3.0    Climate_Change    NaN  \n",
       "3         1.0     1.0            6.0  3.0    Climate_Change    NaN  \n",
       "4         2.0     4.0            9.0  2.0    Climate_Change    NaN  \n",
       "...       ...     ...            ...  ...               ...    ...  \n",
       "41134     2.0     NaN            7.0  3.0  Carbon_Pollution    NaN  \n",
       "41135     2.0     4.0            7.0  3.0  Carbon_Pollution    NaN  \n",
       "41136     2.0     NaN            NaN  3.0  Carbon_Pollution    NaN  \n",
       "41137     2.0     2.0            4.0  3.0  Carbon_Pollution    NaN  \n",
       "41138     2.0     5.0            6.0  3.0  Carbon_Pollution    NaN  \n",
       "\n",
       "[41139 rows x 12 columns]"
      ]
     },
     "execution_count": 35,
     "metadata": {},
     "output_type": "execute_result"
    }
   ],
   "source": [
    "#transform the dataframe from wide format to long format\n",
    "\n",
    "df_long = pd.melt(\n",
    "    df_control.loc[:, ['ResponseId', 'Climate_Change', 'Global_Warming', 'Global_Heating', 'Climate_Crisis', 'Greenhouse_Effect', 'Carbon_Emissions', 'Greenhouse_Gasses', 'Climate_Emergency', 'Carbon_Pollution', 'Politics2_1', 'Politics2_9', 'Age', 'Country', 'BELIEFcc', 'Gender', 'Income', 'MacArthur_SES', 'Edu']],\n",
    "    id_vars=[\"ResponseId\", 'Politics2_1', 'Politics2_9','Age', 'Country', 'BELIEFcc', 'Gender', 'Income', 'MacArthur_SES','Edu'],\n",
    "    var_name=\"Term\",\n",
    "#    value_name=\"willingness\"\n",
    ")\n",
    "df_long"
   ]
  },
  {
   "cell_type": "code",
   "execution_count": 36,
   "metadata": {},
   "outputs": [
    {
     "data": {
      "text/html": [
       "<div>\n",
       "<style scoped>\n",
       "    .dataframe tbody tr th:only-of-type {\n",
       "        vertical-align: middle;\n",
       "    }\n",
       "\n",
       "    .dataframe tbody tr th {\n",
       "        vertical-align: top;\n",
       "    }\n",
       "\n",
       "    .dataframe thead th {\n",
       "        text-align: right;\n",
       "    }\n",
       "</style>\n",
       "<table border=\"1\" class=\"dataframe\">\n",
       "  <thead>\n",
       "    <tr style=\"text-align: right;\">\n",
       "      <th></th>\n",
       "      <th>ResponseId</th>\n",
       "      <th>Country</th>\n",
       "      <th>Term</th>\n",
       "      <th>value</th>\n",
       "    </tr>\n",
       "  </thead>\n",
       "  <tbody>\n",
       "    <tr>\n",
       "      <th>21</th>\n",
       "      <td>R_2DOIoot2cvjJfuC</td>\n",
       "      <td>usa</td>\n",
       "      <td>Climate_Change</td>\n",
       "      <td>51.0</td>\n",
       "    </tr>\n",
       "    <tr>\n",
       "      <th>33</th>\n",
       "      <td>R_vlaPuaP0mFe2zYZ</td>\n",
       "      <td>usa</td>\n",
       "      <td>Climate_Change</td>\n",
       "      <td>92.0</td>\n",
       "    </tr>\n",
       "    <tr>\n",
       "      <th>34</th>\n",
       "      <td>R_25t48laTwXM7U1B</td>\n",
       "      <td>usa</td>\n",
       "      <td>Climate_Change</td>\n",
       "      <td>3.0</td>\n",
       "    </tr>\n",
       "    <tr>\n",
       "      <th>35</th>\n",
       "      <td>R_2zIMOv7xFuxptTJ</td>\n",
       "      <td>usa</td>\n",
       "      <td>Climate_Change</td>\n",
       "      <td>80.0</td>\n",
       "    </tr>\n",
       "    <tr>\n",
       "      <th>41</th>\n",
       "      <td>R_3soTptaePDqmDzA</td>\n",
       "      <td>usa</td>\n",
       "      <td>Climate_Change</td>\n",
       "      <td>100.0</td>\n",
       "    </tr>\n",
       "    <tr>\n",
       "      <th>...</th>\n",
       "      <td>...</td>\n",
       "      <td>...</td>\n",
       "      <td>...</td>\n",
       "      <td>...</td>\n",
       "    </tr>\n",
       "    <tr>\n",
       "      <th>41097</th>\n",
       "      <td>R_2w4SrYTCpwOTV1a</td>\n",
       "      <td>usa</td>\n",
       "      <td>Carbon_Pollution</td>\n",
       "      <td>73.0</td>\n",
       "    </tr>\n",
       "    <tr>\n",
       "      <th>41112</th>\n",
       "      <td>R_2aX3rZiymHXU8jU</td>\n",
       "      <td>vietnam</td>\n",
       "      <td>Carbon_Pollution</td>\n",
       "      <td>100.0</td>\n",
       "    </tr>\n",
       "    <tr>\n",
       "      <th>41119</th>\n",
       "      <td>R_bx6C2qHpml7w3rr</td>\n",
       "      <td>vietnam</td>\n",
       "      <td>Carbon_Pollution</td>\n",
       "      <td>71.0</td>\n",
       "    </tr>\n",
       "    <tr>\n",
       "      <th>41127</th>\n",
       "      <td>R_Y5BtwTC9yOO8Rxf</td>\n",
       "      <td>vietnam</td>\n",
       "      <td>Carbon_Pollution</td>\n",
       "      <td>29.0</td>\n",
       "    </tr>\n",
       "    <tr>\n",
       "      <th>41132</th>\n",
       "      <td>R_2YrBbzfUE5bVOAc</td>\n",
       "      <td>vietnam</td>\n",
       "      <td>Carbon_Pollution</td>\n",
       "      <td>100.0</td>\n",
       "    </tr>\n",
       "  </tbody>\n",
       "</table>\n",
       "<p>4531 rows × 4 columns</p>\n",
       "</div>"
      ],
      "text/plain": [
       "              ResponseId  Country              Term  value\n",
       "21     R_2DOIoot2cvjJfuC      usa    Climate_Change   51.0\n",
       "33     R_vlaPuaP0mFe2zYZ      usa    Climate_Change   92.0\n",
       "34     R_25t48laTwXM7U1B      usa    Climate_Change    3.0\n",
       "35     R_2zIMOv7xFuxptTJ      usa    Climate_Change   80.0\n",
       "41     R_3soTptaePDqmDzA      usa    Climate_Change  100.0\n",
       "...                  ...      ...               ...    ...\n",
       "41097  R_2w4SrYTCpwOTV1a      usa  Carbon_Pollution   73.0\n",
       "41112  R_2aX3rZiymHXU8jU  vietnam  Carbon_Pollution  100.0\n",
       "41119  R_bx6C2qHpml7w3rr  vietnam  Carbon_Pollution   71.0\n",
       "41127  R_Y5BtwTC9yOO8Rxf  vietnam  Carbon_Pollution   29.0\n",
       "41132  R_2YrBbzfUE5bVOAc  vietnam  Carbon_Pollution  100.0\n",
       "\n",
       "[4531 rows x 4 columns]"
      ]
     },
     "execution_count": 36,
     "metadata": {},
     "output_type": "execute_result"
    }
   ],
   "source": [
    "df_main = df_long[['ResponseId', 'Country', 'Term', 'value']]\n",
    "df_main = df_main.dropna()\n",
    "df_main"
   ]
  },
  {
   "cell_type": "code",
   "execution_count": 37,
   "metadata": {},
   "outputs": [],
   "source": [
    "#replace \"Climate_Change\" with \"AClimate_Change\" to compare all terms with \"Climate Change\"\n",
    "df_long['Term'] = df_long['Term'].replace(['Climate_Change'], 'AClimate_Change')\n",
    "df_main['Term'] = df_main['Term'].replace(['Climate_Change'], 'AClimate_Change')"
   ]
  },
  {
   "cell_type": "markdown",
   "metadata": {},
   "source": [
    "## Main manuscript analyses"
   ]
  },
  {
   "cell_type": "code",
   "execution_count": 38,
   "metadata": {},
   "outputs": [
    {
     "data": {
      "text/plain": [
       "73.66750975721418"
      ]
     },
     "execution_count": 38,
     "metadata": {},
     "output_type": "execute_result"
    }
   ],
   "source": [
    "# compute weighted mean of willingness to act, \n",
    "#accounting for differences in sample size by country\n",
    "\n",
    "# Calculate sample sizes for each country\n",
    "sample_sizes = df_main.groupby('Country').size()\n",
    "\n",
    "# Calculate total willingness to act for each country\n",
    "total_willingness = df_main.groupby('Country')['value'].sum()\n",
    "\n",
    "# Compute the weighted mean\n",
    "weighted_mean = (total_willingness / sample_sizes).mean()\n",
    "weighted_mean"
   ]
  },
  {
   "cell_type": "code",
   "execution_count": 42,
   "metadata": {},
   "outputs": [
    {
     "data": {
      "text/plain": [
       "71.08695652173913"
      ]
     },
     "execution_count": 42,
     "metadata": {},
     "output_type": "execute_result"
    }
   ],
   "source": [
    "#unweighted mean\n",
    "df_main['value'].mean()"
   ]
  },
  {
   "cell_type": "code",
   "execution_count": null,
   "metadata": {},
   "outputs": [],
   "source": [
    "import warnings\n",
    "warnings.filterwarnings('ignore')\n",
    "\n",
    "# Load R in Python\n",
    "%load_ext rpy2.ipython"
   ]
  },
  {
   "cell_type": "code",
   "execution_count": null,
   "metadata": {},
   "outputs": [],
   "source": [
    "# Load the R library lmerTest\n",
    "%R library(lmerTest) #for linear models\n",
    "%R library(car) #for ANOVAs"
   ]
  },
  {
   "cell_type": "code",
   "execution_count": null,
   "metadata": {},
   "outputs": [],
   "source": [
    "# Send R the dataset\n",
    "%Rpush df_main"
   ]
  },
  {
   "cell_type": "code",
   "execution_count": null,
   "metadata": {
    "scrolled": true
   },
   "outputs": [],
   "source": [
    "%%R\n",
    "\n",
    "M <- lmer(value ~ as.factor(Term) + (1 | Country), data = df_main)\n",
    "print(summary(M))\n",
    "confint(M)"
   ]
  },
  {
   "cell_type": "code",
   "execution_count": null,
   "metadata": {},
   "outputs": [],
   "source": [
    "%%R\n",
    "\n",
    "# ANOVA with type III sum of squares\n",
    "anova_result <- car::Anova(M, type = \"III\")\n",
    "print(anova_result)"
   ]
  },
  {
   "cell_type": "markdown",
   "metadata": {},
   "source": [
    "### US only"
   ]
  },
  {
   "cell_type": "code",
   "execution_count": null,
   "metadata": {},
   "outputs": [],
   "source": [
    "#USA only\n",
    "countries = [\"usa\"]\n",
    "df_main_US = df_main[df_main['Country'].isin(countries)]"
   ]
  },
  {
   "cell_type": "code",
   "execution_count": null,
   "metadata": {},
   "outputs": [],
   "source": [
    "len(df_main_US.ResponseId.unique())"
   ]
  },
  {
   "cell_type": "code",
   "execution_count": null,
   "metadata": {},
   "outputs": [],
   "source": [
    "# Send R the dataset\n",
    "%Rpush df_main_US"
   ]
  },
  {
   "cell_type": "code",
   "execution_count": null,
   "metadata": {
    "scrolled": true
   },
   "outputs": [],
   "source": [
    "%%R\n",
    "\n",
    "M <- lm(value ~ as.factor(Term), data = df_main_US)\n",
    "print(summary(M))\n",
    "confint(M)"
   ]
  },
  {
   "cell_type": "code",
   "execution_count": null,
   "metadata": {},
   "outputs": [],
   "source": [
    "%%R\n",
    "\n",
    "# ANOVA with type III sum of squares\n",
    "anova_result <- car::Anova(M, type = \"III\")\n",
    "print(anova_result)"
   ]
  },
  {
   "cell_type": "markdown",
   "metadata": {},
   "source": [
    "### Anglosphere only"
   ]
  },
  {
   "cell_type": "code",
   "execution_count": null,
   "metadata": {},
   "outputs": [],
   "source": [
    "#majority English-speaking countries (i.e., the “core Anglosphere”): US, UK, Canada, Australia, & New Zealand\n",
    "countries1 = [\"usa\", \"uk\", \"canada\", \"australia\", \"newzealand\"]\n",
    "df_main_anglo = df_main[df_main['Country'].isin(countries1)]"
   ]
  },
  {
   "cell_type": "code",
   "execution_count": null,
   "metadata": {},
   "outputs": [],
   "source": [
    "len(df_main_anglo.ResponseId.unique())"
   ]
  },
  {
   "cell_type": "code",
   "execution_count": null,
   "metadata": {},
   "outputs": [],
   "source": [
    "# Send R the dataset\n",
    "%Rpush df_main_anglo"
   ]
  },
  {
   "cell_type": "code",
   "execution_count": null,
   "metadata": {
    "scrolled": true
   },
   "outputs": [],
   "source": [
    "%%R\n",
    "\n",
    "M <- lmer(value ~ as.factor(Term) + (1 | Country), data = df_main_anglo)\n",
    "print(summary(M))\n",
    "confint(M)"
   ]
  },
  {
   "cell_type": "code",
   "execution_count": null,
   "metadata": {},
   "outputs": [],
   "source": [
    "%%R\n",
    "\n",
    "# ANOVA with type III sum of squares\n",
    "anova_result <- car::Anova(M, type = \"III\")\n",
    "print(anova_result)"
   ]
  },
  {
   "cell_type": "markdown",
   "metadata": {},
   "source": [
    "## Here is where main analysis ends and interactions begin"
   ]
  },
  {
   "cell_type": "markdown",
   "metadata": {},
   "source": [
    "### Prepare data"
   ]
  },
  {
   "cell_type": "code",
   "execution_count": null,
   "metadata": {},
   "outputs": [],
   "source": [
    "#remove missing data in df_long\n",
    "dfc = df_long.dropna()\n",
    "dfc"
   ]
  },
  {
   "cell_type": "code",
   "execution_count": null,
   "metadata": {},
   "outputs": [],
   "source": [
    "# Global median split\n",
    "# dfc[\"Ideology\"] = (dfc[\"Politics2_1\"] > dfc[\"Politics2_1\"].median()).astype(int)\n",
    "\n",
    "dfc['ide'] = (dfc['Politics2_1'] + dfc['Politics2_9'])/2\n",
    "\n",
    "# Per-country median split\n",
    "new = []\n",
    "for _, sub in dfc.groupby(\"Country\"):\n",
    "    sub.loc[:, \"Ideology\"] = (sub.loc[:, \"ide\"] > sub.loc[:, \"ide\"].median()).astype(float)\n",
    "    # Ensure NaN ideology when Politics2_1 is NaN\n",
    "    sub.loc[sub.Politics2_1.isna(), \"Ideology\"] = np.NaN\n",
    "    new.append(sub)\n",
    "dfc = pd.concat(new)\n",
    "# Replace 1 with \"Conservative\" and 0 with \"Liberal\"\n",
    "#dfc['Ideology'] = dfc['Ideology'].replace(1, 'Conservative').replace(0, 'Liberal')\n",
    "#dfc"
   ]
  },
  {
   "cell_type": "code",
   "execution_count": null,
   "metadata": {},
   "outputs": [],
   "source": [
    "#generate median splits\n",
    "dfc[\"Age_ms\"] = (dfc[\"Age\"] > dfc[\"Age\"].median()).astype(float) #1 is older, 0 is younger\n",
    "dfc[\"SES\"] = (dfc[\"MacArthur_SES\"] > dfc[\"MacArthur_SES\"].median()).astype(float)\n",
    "dfc['Edu_binary'] = dfc['Edu'].replace(1, 0).replace(2, 0).replace(3, 1).replace(4, 1)\n",
    "\n",
    "dfc"
   ]
  },
  {
   "cell_type": "code",
   "execution_count": null,
   "metadata": {},
   "outputs": [],
   "source": [
    "#remove participants whose Gender is not 1 or 2\n",
    "dfc = dfc[(dfc[\"Gender\"] == 1) | (dfc[\"Gender\"] == 2)]"
   ]
  },
  {
   "cell_type": "code",
   "execution_count": null,
   "metadata": {},
   "outputs": [],
   "source": [
    "len(dfc.ResponseId.unique())"
   ]
  },
  {
   "cell_type": "markdown",
   "metadata": {},
   "source": [
    "### Run interactions using median split variables"
   ]
  },
  {
   "cell_type": "code",
   "execution_count": null,
   "metadata": {},
   "outputs": [],
   "source": [
    "# Send R the dataset\n",
    "%Rpush dfc"
   ]
  },
  {
   "cell_type": "code",
   "execution_count": null,
   "metadata": {
    "scrolled": true
   },
   "outputs": [],
   "source": [
    "%%R\n",
    "#continuous ideology variable\n",
    "\n",
    "M <- lmer(value ~ as.factor(Term)*ide + (1 | Country), data = dfc)\n",
    "print(summary(M))\n",
    "confint(M)"
   ]
  },
  {
   "cell_type": "code",
   "execution_count": null,
   "metadata": {},
   "outputs": [],
   "source": [
    "%%R\n",
    "\n",
    "# ANOVA with type III sum of squares\n",
    "anova_result <- car::Anova(M, type = \"III\")\n",
    "print(anova_result)"
   ]
  },
  {
   "cell_type": "code",
   "execution_count": null,
   "metadata": {
    "scrolled": true
   },
   "outputs": [],
   "source": [
    "%%R\n",
    "#median-split ideology variable\n",
    "\n",
    "M <- lmer(value ~ as.factor(Term)*Ideology + (1 | Country), data = dfc)\n",
    "print(summary(M))\n",
    "confint(M)"
   ]
  },
  {
   "cell_type": "code",
   "execution_count": null,
   "metadata": {},
   "outputs": [],
   "source": [
    "%%R\n",
    "\n",
    "# ANOVA with type III sum of squares\n",
    "anova_result <- car::Anova(M, type = \"III\")\n",
    "print(anova_result)"
   ]
  },
  {
   "cell_type": "code",
   "execution_count": null,
   "metadata": {
    "scrolled": true
   },
   "outputs": [],
   "source": [
    "%%R\n",
    "\n",
    "M <- lmer(value ~ as.factor(Term)*SES + (1 | Country), data = dfc)\n",
    "print(summary(M))\n",
    "confint(M)"
   ]
  },
  {
   "cell_type": "code",
   "execution_count": null,
   "metadata": {},
   "outputs": [],
   "source": [
    "%%R\n",
    "\n",
    "# ANOVA with type III sum of squares\n",
    "anova_result <- car::Anova(M, type = \"III\")\n",
    "print(anova_result)"
   ]
  },
  {
   "cell_type": "code",
   "execution_count": null,
   "metadata": {
    "scrolled": true
   },
   "outputs": [],
   "source": [
    "%%R\n",
    "\n",
    "M <- lmer(value ~ as.factor(Term)*Gender + (1 | Country), data = dfc)\n",
    "print(summary(M))\n",
    "confint(M)"
   ]
  },
  {
   "cell_type": "code",
   "execution_count": null,
   "metadata": {},
   "outputs": [],
   "source": [
    "%%R\n",
    "\n",
    "# ANOVA with type III sum of squares\n",
    "anova_result <- car::Anova(M, type = \"III\")\n",
    "print(anova_result)"
   ]
  },
  {
   "cell_type": "code",
   "execution_count": null,
   "metadata": {},
   "outputs": [],
   "source": [
    "%%R\n",
    "\n",
    "M <- lmer(value ~ as.factor(Term)*Age_ms + (1 | Country), data = dfc)\n",
    "print(summary(M))\n",
    "confint(M)"
   ]
  },
  {
   "cell_type": "code",
   "execution_count": null,
   "metadata": {},
   "outputs": [],
   "source": [
    "%%R\n",
    "\n",
    "# ANOVA with type III sum of squares\n",
    "anova_result <- car::Anova(M, type = \"III\")\n",
    "print(anova_result)"
   ]
  },
  {
   "cell_type": "code",
   "execution_count": null,
   "metadata": {
    "scrolled": false
   },
   "outputs": [],
   "source": [
    "%%R\n",
    "\n",
    "M <- lmer(value ~ as.factor(Term)*Edu_binary + (1 | Country), data = dfc)\n",
    "print(summary(M))\n",
    "confint(M)"
   ]
  },
  {
   "cell_type": "code",
   "execution_count": null,
   "metadata": {},
   "outputs": [],
   "source": [
    "%%R\n",
    "\n",
    "# ANOVA with type III sum of squares\n",
    "anova_result <- car::Anova(M, type = \"III\")\n",
    "print(anova_result)"
   ]
  },
  {
   "cell_type": "markdown",
   "metadata": {},
   "source": [
    "# STUDY 2"
   ]
  },
  {
   "cell_type": "markdown",
   "metadata": {},
   "source": [
    "### Import Study 2 data and run data preprocessing"
   ]
  },
  {
   "cell_type": "code",
   "execution_count": null,
   "metadata": {},
   "outputs": [],
   "source": [
    "# Load file (from same directory as the notebook)\n",
    "df2 = pd.read_excel(\"TermsFollowup.xlsx\")"
   ]
  },
  {
   "cell_type": "code",
   "execution_count": null,
   "metadata": {},
   "outputs": [],
   "source": [
    "# Keep only the rows where 'attentioncheck' equals 2\n",
    "df2 = df2[df2['attentioncheck'] == 2]\n",
    "df2"
   ]
  },
  {
   "cell_type": "code",
   "execution_count": null,
   "metadata": {},
   "outputs": [],
   "source": [
    "#remove columns that have missing data for any of the 10 conditions\n",
    "# List of columns to check for missing values\n",
    "act_cols = ['Act_1', 'Act_1.1', 'Act_1.2', 'Act_1.3', 'Act_1.4', 'Act_1.5', 'Act_1.6', 'Act_1.7', 'Act_1.8','Act_1.9']\n",
    "adv_cols = ['Advocacy_1', 'Advocacy_1.1', 'Advocacy_1.2', 'Advocacy_1.3', 'Advocacy_1.4', 'Advocacy_1.5', 'Advocacy_1.6', 'Advocacy_1.7', 'Advocacy_1.8','Advocacy_1.9']\n",
    "policy_cols = ['Policy_1', 'Policy_1.1', 'Policy_1.2', 'Policy_1.3', 'Policy_1.4', 'Policy_1.5', 'Policy_1.6', 'Policy_1.7', 'Policy_1.8','Policy_1.9']\n",
    "concern_cols = ['Concern_1', 'Concern_1.1', 'Concern_1.2', 'Concern_1.3', 'Concern_1.4', 'Concern_1.5', 'Concern_1.6', 'Concern_1.7', 'Concern_1.8', 'Concern_1.9']\n",
    "\n",
    "# Remove rows where all specified columns have missing values\n",
    "df2.dropna(subset=act_cols, how='all', inplace=True)\n",
    "df2.dropna(subset=policy_cols, how='all', inplace=True)\n",
    "df2.dropna(subset=concern_cols, how='all', inplace=True)\n",
    "\n",
    "df2"
   ]
  },
  {
   "cell_type": "code",
   "execution_count": null,
   "metadata": {},
   "outputs": [],
   "source": [
    "# Use a list comprehension to filter columns that start with 'Act'\n",
    "act_columns = [col for col in df2.columns if col.startswith('Act')]\n",
    "# Sum these columns\n",
    "df2['Act'] = df2[act_columns].sum(axis=1)\n",
    "\n",
    "# Use a list comprehension to filter columns that start with 'Advocacy'\n",
    "adv_columns = [col for col in df2.columns if col.startswith('Advocacy')]\n",
    "# Sum these columns\n",
    "df2['Advocacy'] = df2[adv_columns].sum(axis=1)\n",
    "\n",
    "# Use a list comprehension to filter columns that start with 'Policy'\n",
    "policy_columns = [col for col in df2.columns if col.startswith('Policy')]\n",
    "# Sum these columns\n",
    "df2['Policy'] = df2[policy_columns].sum(axis=1)\n",
    "\n",
    "# Use a list comprehension to filter columns that start with 'Concern'\n",
    "concern_columns = [col for col in df2.columns if col.startswith('Concern')]\n",
    "# Sum these columns\n",
    "df2['Concern'] = df2[concern_columns].sum(axis=1)\n",
    "df2"
   ]
  },
  {
   "cell_type": "code",
   "execution_count": null,
   "metadata": {},
   "outputs": [],
   "source": [
    "# List of columns to be removed\n",
    "columns_to_remove = [\n",
    "    'Act_1', 'Advocacy_1', 'Policy_1', 'Concern_1', \n",
    "    'Act_1.1', 'Advocacy_1.1', 'Policy_1.1', 'Concern_1.1', \n",
    "    'Act_1.2', 'Advocacy_1.2', 'Policy_1.2', 'Concern_1.2', \n",
    "    'Act_1.3', 'Advocacy_1.3', 'Policy_1.3', 'Concern_1.3', \n",
    "    'Act_1.4', 'Advocacy_1.4', 'Policy_1.4', 'Concern_1.4', \n",
    "    'Act_1.5', 'Advocacy_1.5', 'Policy_1.5', 'Concern_1.5', \n",
    "    'Act_1.6', 'Advocacy_1.6', 'Policy_1.6', 'Concern_1.6', \n",
    "    'Act_1.7', 'Advocacy_1.7', 'Policy_1.7', 'Concern_1.7', \n",
    "    'Act_1.8', 'Advocacy_1.8', 'Policy_1.8', 'Concern_1.8', \n",
    "    'Act_1.9', 'Advocacy_1.9', 'Policy_1.9', 'Concern_1.9',\n",
    "    'aid', 'attentioncheck', 'Gender_4_TEXT', 'Comments_pilot', 'PerceivedSciConsensu_1'\n",
    "]\n",
    "\n",
    "# Remove these columns\n",
    "df2.drop(columns=columns_to_remove, inplace=True)\n",
    "df2"
   ]
  },
  {
   "cell_type": "code",
   "execution_count": null,
   "metadata": {},
   "outputs": [],
   "source": [
    "df2['C'] = df2['C'].replace(['ClimateChange'], 'AClimateChange')\n",
    "df2"
   ]
  },
  {
   "cell_type": "markdown",
   "metadata": {},
   "source": [
    "### Study 2 main manuscript analyses"
   ]
  },
  {
   "cell_type": "code",
   "execution_count": null,
   "metadata": {},
   "outputs": [],
   "source": [
    "#calculate overall mean willingness to act\n",
    "mean_willingness_to_act = df2['Act'].mean()\n",
    "print(f\"Mean Willingness to Act in Study 2: {mean_willingness_to_act}\")"
   ]
  },
  {
   "cell_type": "code",
   "execution_count": null,
   "metadata": {},
   "outputs": [],
   "source": [
    "# Send R the dataset\n",
    "%Rpush df2"
   ]
  },
  {
   "cell_type": "code",
   "execution_count": null,
   "metadata": {
    "scrolled": true
   },
   "outputs": [],
   "source": [
    "%%R\n",
    "# Willingness to act, DV reported in manuscript\n",
    "\n",
    "M <- lm(Act ~ as.factor(C), data = df2)\n",
    "print(summary(M))\n",
    "confint(M)"
   ]
  },
  {
   "cell_type": "code",
   "execution_count": null,
   "metadata": {},
   "outputs": [],
   "source": [
    "%%R\n",
    "\n",
    "# ANOVA with type III sum of squares\n",
    "anova_result <- car::Anova(M, type = \"III\")\n",
    "print(anova_result)"
   ]
  },
  {
   "cell_type": "markdown",
   "metadata": {},
   "source": [
    "### Prepare data to run interactions"
   ]
  },
  {
   "cell_type": "code",
   "execution_count": null,
   "metadata": {},
   "outputs": [],
   "source": [
    "#remove missing data in df2\n",
    "df2c = df2.dropna()\n",
    "df2c"
   ]
  },
  {
   "cell_type": "code",
   "execution_count": null,
   "metadata": {},
   "outputs": [],
   "source": [
    "# dfc[\"Ideology\"] = (dfc[\"Politics2_1\"] > dfc[\"Politics2_1\"].median()).astype(int)\n",
    "\n",
    "df2c['ide'] = (df2c['Politics2_1'] + df2c['Politics2_9'])/2\n",
    "\n",
    "# Replace 1 with \"Conservative\" and 0 with \"Liberal\"\n",
    "#dfc['Ideology'] = dfc['Ideology'].replace(1, 'Conservative').replace(0, 'Liberal')\n",
    "#dfc"
   ]
  },
  {
   "cell_type": "code",
   "execution_count": null,
   "metadata": {},
   "outputs": [],
   "source": [
    "#generate median splits\n",
    "df2c[\"Age_ms\"] = (df2c[\"Age\"] > df2c[\"Age\"].median()).astype(float) #1 is older, 0 is younger\n",
    "df2c[\"Income_ms\"] = (df2c[\"Income\"] > df2c[\"Income\"].median()).astype(float) \n",
    "df2c[\"SES\"] = (df2c[\"MacArthur_SES\"] > df2c[\"MacArthur_SES\"].median()).astype(float)\n",
    "df2c['Edu_binary'] = df2c['Education 2'].replace(1, 0).replace(2, 0).replace(3, 1).replace(4, 1)\n",
    "\n",
    "df2c"
   ]
  },
  {
   "cell_type": "code",
   "execution_count": null,
   "metadata": {},
   "outputs": [],
   "source": [
    "#remove participants whose Gender is not 1 or 2 so Gender is a binary variable\n",
    "dfc = dfc[(dfc[\"Gender\"] == 1) | (dfc[\"Gender\"] == 2)]"
   ]
  },
  {
   "cell_type": "markdown",
   "metadata": {},
   "source": [
    "### Run interactions for Willingness to Act using median split variables"
   ]
  },
  {
   "cell_type": "code",
   "execution_count": null,
   "metadata": {},
   "outputs": [],
   "source": [
    "# Send R the dataset\n",
    "%Rpush df2c"
   ]
  },
  {
   "cell_type": "code",
   "execution_count": null,
   "metadata": {
    "scrolled": true
   },
   "outputs": [],
   "source": [
    "%%R\n",
    "\n",
    "#continuous ideology variable\n",
    "M <- lm(Act ~ as.factor(C)*ide, data = df2c)\n",
    "print(summary(M))\n",
    "confint(M)"
   ]
  },
  {
   "cell_type": "code",
   "execution_count": null,
   "metadata": {},
   "outputs": [],
   "source": [
    "%%R\n",
    "\n",
    "# ANOVA with type III sum of squares\n",
    "anova_result <- car::Anova(M, type = \"III\")\n",
    "print(anova_result)"
   ]
  },
  {
   "cell_type": "code",
   "execution_count": null,
   "metadata": {
    "scrolled": true
   },
   "outputs": [],
   "source": [
    "%%R\n",
    "\n",
    "M <- lm(Act ~ as.factor(C)*SES, data = df2c)\n",
    "print(summary(M))\n",
    "confint(M)"
   ]
  },
  {
   "cell_type": "code",
   "execution_count": null,
   "metadata": {},
   "outputs": [],
   "source": [
    "%%R\n",
    "\n",
    "# ANOVA with type III sum of squares\n",
    "anova_result <- car::Anova(M, type = \"III\")\n",
    "print(anova_result)"
   ]
  },
  {
   "cell_type": "code",
   "execution_count": null,
   "metadata": {
    "scrolled": true
   },
   "outputs": [],
   "source": [
    "%%R\n",
    "\n",
    "M <- lm(Act ~ as.factor(C)*Gender, data = df2c)\n",
    "print(summary(M))\n",
    "confint(M)"
   ]
  },
  {
   "cell_type": "code",
   "execution_count": null,
   "metadata": {},
   "outputs": [],
   "source": [
    "%%R\n",
    "\n",
    "# ANOVA with type III sum of squares\n",
    "anova_result <- car::Anova(M, type = \"III\")\n",
    "print(anova_result)"
   ]
  },
  {
   "cell_type": "code",
   "execution_count": null,
   "metadata": {
    "scrolled": true
   },
   "outputs": [],
   "source": [
    "%%R\n",
    "\n",
    "M <- lm(Act ~ as.factor(C)*Age_ms, data = df2c)\n",
    "print(summary(M))\n",
    "confint(M)"
   ]
  },
  {
   "cell_type": "code",
   "execution_count": null,
   "metadata": {},
   "outputs": [],
   "source": [
    "%%R\n",
    "\n",
    "# ANOVA with type III sum of squares\n",
    "anova_result <- car::Anova(M, type = \"III\")\n",
    "print(anova_result)"
   ]
  },
  {
   "cell_type": "code",
   "execution_count": null,
   "metadata": {
    "scrolled": true
   },
   "outputs": [],
   "source": [
    "%%R\n",
    "\n",
    "M <- lm(Act ~ as.factor(C)*Edu_binary, data = df2c)\n",
    "print(summary(M))\n",
    "confint(M)"
   ]
  },
  {
   "cell_type": "code",
   "execution_count": null,
   "metadata": {},
   "outputs": [],
   "source": [
    "%%R\n",
    "\n",
    "# ANOVA with type III sum of squares\n",
    "anova_result <- car::Anova(M, type = \"III\")\n",
    "print(anova_result)"
   ]
  },
  {
   "cell_type": "markdown",
   "metadata": {},
   "source": [
    "### Additional Outcome Variables from Study 2-- None Significant"
   ]
  },
  {
   "cell_type": "code",
   "execution_count": null,
   "metadata": {},
   "outputs": [],
   "source": [
    "%%R\n",
    "\n",
    "M <- lm(Advocacy ~ as.factor(C), data = df2)\n",
    "print(summary(M))\n",
    "confint(M)"
   ]
  },
  {
   "cell_type": "code",
   "execution_count": null,
   "metadata": {},
   "outputs": [],
   "source": [
    "%%R\n",
    "\n",
    "# ANOVA with type III sum of squares\n",
    "anova_result <- car::Anova(M, type = \"III\")\n",
    "print(anova_result)"
   ]
  },
  {
   "cell_type": "code",
   "execution_count": null,
   "metadata": {},
   "outputs": [],
   "source": [
    "%%R\n",
    "\n",
    "M <- lm(Policy ~ as.factor(C), data = df2)\n",
    "print(summary(M))\n",
    "confint(M)"
   ]
  },
  {
   "cell_type": "code",
   "execution_count": null,
   "metadata": {},
   "outputs": [],
   "source": [
    "%%R\n",
    "\n",
    "# ANOVA with type III sum of squares\n",
    "anova_result <- car::Anova(M, type = \"III\")\n",
    "print(anova_result)"
   ]
  },
  {
   "cell_type": "code",
   "execution_count": null,
   "metadata": {
    "scrolled": true
   },
   "outputs": [],
   "source": [
    "%%R\n",
    "\n",
    "M <- lm(Concern ~ as.factor(C), data = df2)\n",
    "print(summary(M))\n",
    "confint(M)"
   ]
  },
  {
   "cell_type": "code",
   "execution_count": null,
   "metadata": {},
   "outputs": [],
   "source": [
    "%%R\n",
    "\n",
    "# ANOVA with type III sum of squares\n",
    "anova_result <- car::Anova(M, type = \"III\")\n",
    "print(anova_result)"
   ]
  },
  {
   "cell_type": "markdown",
   "metadata": {},
   "source": [
    "## FIGURE"
   ]
  },
  {
   "cell_type": "code",
   "execution_count": null,
   "metadata": {},
   "outputs": [],
   "source": [
    "# copy df_main to a new dataframe df1 to preserve the original dataframe\n",
    "df1 = df_main.copy()\n",
    "\n",
    "# replace underscores in the values of the 'Term' column\n",
    "df1['Term'] = df1['Term'].str.replace('_', '')\n",
    "df1"
   ]
  },
  {
   "cell_type": "code",
   "execution_count": null,
   "metadata": {},
   "outputs": [],
   "source": [
    "# Calculate the mean for each study\n",
    "mean_value_df1 = df1['value'].mean()\n",
    "mean_value_df2 = df2['Act'].mean()\n",
    "\n",
    "# Setting the palette\n",
    "pal = [\"#1B998B\"]\n",
    "\n",
    "# Creating the figure and axes\n",
    "fig, ax = plt.subplots(1, 2, figsize=(7, 4), sharey=True)  # Adjusted for two panels\n",
    "\n",
    "# Sorting the terms based on mean willingness to act for df1\n",
    "order_1 = df1.groupby(\"Term\").agg(\"mean\")[\"value\"].sort_values(ascending=False).index\n",
    "\n",
    "# Add 'GlobalBoiling' to the order for Study 2 \n",
    "if 'GlobalBoiling' not in order_1:\n",
    "    order_2 = order_1.insert(len(order_1), 'GlobalBoiling')\n",
    "else:\n",
    "    order_2 = order_1\n",
    "\n",
    "# Plot for Study 1\n",
    "sns.pointplot(y=\"Term\", x=\"value\", data=df1, orient=\"h\", color=pal[0], join=False, order=order_1, ax=ax[0])\n",
    "ax[0].set_title(\"Study 1: Global Sample\")\n",
    "ax[0].set_ylabel(\"Term\")\n",
    "\n",
    "# Plot for Study 2\n",
    "sns.pointplot(y=\"C\", x=\"Act\", data=df2, orient=\"h\", color=pal[0], join=False, order=order_2, ax=ax[1])\n",
    "ax[1].set_title(\"Study 2: US Sample\")\n",
    "ax[1].set_ylabel(\"\")\n",
    "\n",
    "# Set the x-axis scale for both plots\n",
    "ax[0].set_xlim(40, 80)\n",
    "ax[1].set_xlim(40, 80)\n",
    "\n",
    "# Remove the individual x-labels\n",
    "ax[0].set_xlabel(\"\")\n",
    "ax[1].set_xlabel(\"\")\n",
    "\n",
    "# Set a common x-label for the entire figure\n",
    "fig.text(0.5, 0.04, 'Willingness to Engage in Climate Action', ha='center', va='center')\n",
    "\n",
    "# Add vertical dotted line at the mean value for Study 1\n",
    "ax[0].axvline(mean_value_df1, color='#1B998B', linestyle='--', linewidth=1)\n",
    "\n",
    "# Add vertical dotted line at the mean value for Study 2\n",
    "ax[1].axvline(mean_value_df2, color='#1B998B', linestyle='--', linewidth=1)\n",
    "\n",
    "sns.despine()\n",
    "plt.tight_layout(rect=[0, 0.05, 1, 1])\n",
    "plt.show()\n",
    "plt.savefig('Terms_MainFig.png', dpi=900, format=\"png\")"
   ]
  },
  {
   "cell_type": "markdown",
   "metadata": {},
   "source": [
    "## NOT IN MANUSCRIPT-- test for between country differences"
   ]
  },
  {
   "cell_type": "code",
   "execution_count": null,
   "metadata": {},
   "outputs": [],
   "source": [
    "%R library(dplyr)\n",
    "%R library(ggplot2)"
   ]
  },
  {
   "cell_type": "code",
   "execution_count": null,
   "metadata": {},
   "outputs": [],
   "source": [
    "%%R\n",
    "\n",
    "summary_df <- df_main %>%\n",
    "  group_by(Country, Term) %>%\n",
    "  summarise(AverageWillingness = mean(value, na.rm = TRUE)) %>%\n",
    "  arrange(Country, desc(AverageWillingness))"
   ]
  },
  {
   "cell_type": "code",
   "execution_count": null,
   "metadata": {},
   "outputs": [],
   "source": [
    "%%R\n",
    "\n",
    "anova_results <- aov(value ~ Term + Country, data = df_main)\n",
    "summary(anova_results)"
   ]
  },
  {
   "cell_type": "code",
   "execution_count": null,
   "metadata": {},
   "outputs": [],
   "source": [
    "%%R\n",
    "\n",
    "tukey_test <- TukeyHSD(anova_results, \"Term\")\n",
    "print(tukey_test)"
   ]
  }
 ],
 "metadata": {
  "kernelspec": {
   "display_name": "Python 3 (ipykernel)",
   "language": "python",
   "name": "python3"
  },
  "language_info": {
   "codemirror_mode": {
    "name": "ipython",
    "version": 3
   },
   "file_extension": ".py",
   "mimetype": "text/x-python",
   "name": "python",
   "nbconvert_exporter": "python",
   "pygments_lexer": "ipython3",
   "version": "3.11.4"
  }
 },
 "nbformat": 4,
 "nbformat_minor": 4
}
